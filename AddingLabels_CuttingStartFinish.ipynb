{
 "cells": [
  {
   "cell_type": "code",
   "execution_count": 1,
   "id": "0a28c8a2-8052-44a0-aed6-5bfb7b5849ed",
   "metadata": {},
   "outputs": [],
   "source": [
    "import os\n",
    "import pandas as pd\n",
    "import re\n",
    "from scipy.signal import butter, filtfilt"
   ]
  },
  {
   "cell_type": "code",
   "execution_count": 11,
   "id": "936b32ba-214b-4b9a-9214-8fae58968937",
   "metadata": {},
   "outputs": [],
   "source": [
    "import os\n",
    "import pandas as pd\n",
    "import re\n",
    "from scipy.signal import butter, filtfilt\n",
    "\n",
    "def process_workout_files(input_folder, output_folder, sampling_frequency):\n",
    "    # Ensure the output folder exists\n",
    "    os.makedirs(output_folder, exist_ok=True)\n",
    "\n",
    "    # Get list of CSV files in the input folder\n",
    "    files = [f for f in os.listdir(input_folder) if f.endswith('.csv')]\n",
    "\n",
    "    for file_name in files:\n",
    "        file_path = os.path.join(input_folder, file_name)\n",
    "        df = pd.read_csv(file_path)\n",
    "\n",
    "        # Step 1: Remove the first 1.5 seconds and the last 1.5 seconds\n",
    "        if 'seconds_elapsed' in df.columns:\n",
    "            max_time = df['seconds_elapsed'].max()\n",
    "            df = df[(df['seconds_elapsed'] > 2) & (df['seconds_elapsed'] < (max_time - 1.5))]\n",
    "\n",
    "        # Step 2: Keep only columns with \"wristmotion\" in the name or \"seconds_elapsed\"\n",
    "        columns_to_keep = [col for col in df.columns if \"wristmotion\" in col.lower() or col.lower() == \"seconds_elapsed\"]\n",
    "        df = df[columns_to_keep]\n",
    "\n",
    "        # Step 3: Extract weight, set, reps, and exercise code from the file name\n",
    "        weight_match = re.search(r'_W(\\d+)_', file_name)\n",
    "        set_match = re.search(r'_S(\\d+)_', file_name)\n",
    "        reps_match = re.search(r'_R(\\d+)', file_name)\n",
    "        exercise_code_match = re.search(r'_(.*?)_', file_name)\n",
    "\n",
    "        weight = float(weight_match.group(1)) if weight_match else None\n",
    "        set_number = float(set_match.group(1)) if set_match else None\n",
    "        reps = float(reps_match.group(1)) if reps_match else None\n",
    "        exercise_code = exercise_code_match.group(1) if exercise_code_match else None\n",
    "\n",
    "        # Map exercise code to label number\n",
    "        code_label_mapping = {\n",
    "            \"SBLP\": 1, \"CGCR\": 2, \"NGCR\": 3, \"SAP\": 4, \"MGTBR\": 5, \"AIDBC\": 6, \"MPBC\": 7, \n",
    "            \"SHC\": 8, \"SMS\": 9, \"LE\": 10, \"30DBP\": 11, \"DSP\": 12, \"DLR\": 13, \"SACLR\": 14, \n",
    "            \"MRF\": 15, \"FAPU\": 16, \"SBCTP\": 17, \"MSP\": 18, \"SECR\": 19, \"PUSH\": 20, \"PULL\": 21, \n",
    "            \"MTE\": 22, \"SHSS\": 23, \"STCR\": 24, \"ILE\": 25, \"CRDP\": 26, \"MIBP\": 27, \"APULL\": 28, \n",
    "            \"PREC\": 29, \"SSLHS\": 30, \"HT\": 31, \"SAOCTE\": 32, \"45DBP\": 33, \"SAODTE\": 34, \n",
    "            \"LHC\": 35, \"IDBC\": 36, \"DWC\": 37, \"CGOCTE\": 38\n",
    "        }\n",
    "        label_number = code_label_mapping.get(exercise_code, None)\n",
    "\n",
    "        # Add extracted columns to the DataFrame\n",
    "        df['Weight'] = weight\n",
    "        df['Set'] = set_number\n",
    "        df['Reps'] = reps\n",
    "        df['activity'] = exercise_code\n",
    "        df['ActivityEncoded'] = label_number\n",
    "\n",
    "        # Step 4: Convert specified columns to float\n",
    "        columns_to_convert = [col for col in df.columns if \"wristmotion\" in col.lower()] + \\\n",
    "                             ['seconds_elapsed', 'Set', 'Reps', 'Weight']\n",
    "\n",
    "        for col in columns_to_convert:\n",
    "            if col in df.columns:\n",
    "                df[col] = pd.to_numeric(df[col], errors='coerce')\n",
    "\n",
    "        # Step 5: Apply Butterworth filter to \"wristmotion\" columns\n",
    "        wristmotion_columns = [col for col in df.columns if \"wristmotion\" in col.lower()]\n",
    "        if wristmotion_columns:\n",
    "            # Define Butterworth filter parameters\n",
    "            order = 7\n",
    "            cutoff_frequency = 1  # Desired cutoff frequency in Hz\n",
    "            nyquist_frequency = sampling_frequency / 2\n",
    "            normalized_cutoff = cutoff_frequency / nyquist_frequency\n",
    "\n",
    "            # Create Butterworth filter coefficients\n",
    "            b, a = butter(order, normalized_cutoff, btype='low', analog=False)\n",
    "\n",
    "            # Apply the filter to each wristmotion column\n",
    "            for col in wristmotion_columns:\n",
    "                df[col] = filtfilt(b, a, df[col].values)\n",
    "\n",
    "        # Save the processed DataFrame\n",
    "        output_file_path = os.path.join(output_folder, file_name)\n",
    "        df.to_csv(output_file_path, index=False)\n",
    "        print(f\"Processed file saved: {output_file_path}\")\n"
   ]
  },
  {
   "cell_type": "code",
   "execution_count": 13,
   "id": "45b9a9f8-0a04-48a7-b6b2-441fa9d03a9c",
   "metadata": {
    "scrolled": true
   },
   "outputs": [
    {
     "name": "stdout",
     "output_type": "stream",
     "text": [
      "Processed file saved: D:\\My projects\\Health Tracker Band\\IMUWorkoutClassification\\AppleWatchRecordings\\Whales1_ProcessedFiltered\\011224_APULL_W61_S1_R12-2024-12-01_07-36-28.csv\n",
      "Processed file saved: D:\\My projects\\Health Tracker Band\\IMUWorkoutClassification\\AppleWatchRecordings\\Whales1_ProcessedFiltered\\011224_APULL_W63_5_S2_R12-2024-12-01_07-41-19.csv\n",
      "Processed file saved: D:\\My projects\\Health Tracker Band\\IMUWorkoutClassification\\AppleWatchRecordings\\Whales1_ProcessedFiltered\\011224_APULL_W66_S3_R10-2024-12-01_07-45-29.csv\n",
      "Processed file saved: D:\\My projects\\Health Tracker Band\\IMUWorkoutClassification\\AppleWatchRecordings\\Whales1_ProcessedFiltered\\011224_APULL_W66_S4_R10-2024-12-01_07-49-19.csv\n",
      "Processed file saved: D:\\My projects\\Health Tracker Band\\IMUWorkoutClassification\\AppleWatchRecordings\\Whales1_ProcessedFiltered\\011224_CGCR_W45_S1_R16-2024-12-01_07-53-55.csv\n",
      "Processed file saved: D:\\My projects\\Health Tracker Band\\IMUWorkoutClassification\\AppleWatchRecordings\\Whales1_ProcessedFiltered\\011224_CGCR_W52_S2_12-2024-12-01_07-57-14.csv\n",
      "Processed file saved: D:\\My projects\\Health Tracker Band\\IMUWorkoutClassification\\AppleWatchRecordings\\Whales1_ProcessedFiltered\\011224_CGCR_W52_S3_R8-2024-12-01_08-14-18.csv\n",
      "Processed file saved: D:\\My projects\\Health Tracker Band\\IMUWorkoutClassification\\AppleWatchRecordings\\Whales1_ProcessedFiltered\\011224_DWC_W7_5_S1_R12-2024-12-01_08-27-18.csv\n",
      "Processed file saved: D:\\My projects\\Health Tracker Band\\IMUWorkoutClassification\\AppleWatchRecordings\\Whales1_ProcessedFiltered\\011224_IDBC_W7_5_S1_R13-2024-12-01_08-07-17.csv\n",
      "Processed file saved: D:\\My projects\\Health Tracker Band\\IMUWorkoutClassification\\AppleWatchRecordings\\Whales1_ProcessedFiltered\\011224_IDBC_W7_5_S2_R10-2024-12-01_08-11-04.csv\n",
      "Processed file saved: D:\\My projects\\Health Tracker Band\\IMUWorkoutClassification\\AppleWatchRecordings\\Whales1_ProcessedFiltered\\011224_PREBC_W7_5_S1_R10-2024-12-01_08-18-54.csv\n",
      "Processed file saved: D:\\My projects\\Health Tracker Band\\IMUWorkoutClassification\\AppleWatchRecordings\\Whales1_ProcessedFiltered\\011224_PREBC_W7_5_S2_R10-2024-12-01_08-23-27.csv\n",
      "Processed file saved: D:\\My projects\\Health Tracker Band\\IMUWorkoutClassification\\AppleWatchRecordings\\Whales1_ProcessedFiltered\\021224_30DBP_W10_S1_R6-2024-12-02_14-42-26.csv\n",
      "Processed file saved: D:\\My projects\\Health Tracker Band\\IMUWorkoutClassification\\AppleWatchRecordings\\Whales1_ProcessedFiltered\\021224_30DBP_W12_5_S2_R5-2024-12-02_14-44-20.csv\n",
      "Processed file saved: D:\\My projects\\Health Tracker Band\\IMUWorkoutClassification\\AppleWatchRecordings\\Whales1_ProcessedFiltered\\021224_30DBP_W17_5_S3_R18-2024-12-02_14-47-29.csv\n",
      "Processed file saved: D:\\My projects\\Health Tracker Band\\IMUWorkoutClassification\\AppleWatchRecordings\\Whales1_ProcessedFiltered\\021224_30DBP_W17_5_S4_R14-2024-12-02_14-53-23.csv\n",
      "Processed file saved: D:\\My projects\\Health Tracker Band\\IMUWorkoutClassification\\AppleWatchRecordings\\Whales1_ProcessedFiltered\\021224_DSP_W12_5_S1_R12-2024-12-02_15-00-34.csv\n",
      "Processed file saved: D:\\My projects\\Health Tracker Band\\IMUWorkoutClassification\\AppleWatchRecordings\\Whales1_ProcessedFiltered\\021224_DSP_W12_5_S2_R10-2024-12-02_15-04-57.csv\n",
      "Processed file saved: D:\\My projects\\Health Tracker Band\\IMUWorkoutClassification\\AppleWatchRecordings\\Whales1_ProcessedFiltered\\021224_MIBP_W4_5_S1_R8-2024-12-02_14-39-59.csv\n",
      "Processed file saved: D:\\My projects\\Health Tracker Band\\IMUWorkoutClassification\\AppleWatchRecordings\\Whales1_ProcessedFiltered\\021224_MTE_W13_6_S1_R12-2024-12-02_15-47-48.csv\n",
      "Processed file saved: D:\\My projects\\Health Tracker Band\\IMUWorkoutClassification\\AppleWatchRecordings\\Whales1_ProcessedFiltered\\021224_SACLR_W4_5_S1_R30-2024-12-02_15-12-05.csv\n",
      "Processed file saved: D:\\My projects\\Health Tracker Band\\IMUWorkoutClassification\\AppleWatchRecordings\\Whales1_ProcessedFiltered\\021224_SACLR_W4_5_S2_R15-2024-12-02_15-26-44.csv\n",
      "Processed file saved: D:\\My projects\\Health Tracker Band\\IMUWorkoutClassification\\AppleWatchRecordings\\Whales1_ProcessedFiltered\\021224_SACTE_W11_S2_R15-2024-12-02_15-36-02.csv\n",
      "Processed file saved: D:\\My projects\\Health Tracker Band\\IMUWorkoutClassification\\AppleWatchRecordings\\Whales1_ProcessedFiltered\\021224_SACTE_W11_S3_R12-2024-12-02_15-40-59.csv\n",
      "Processed file saved: D:\\My projects\\Health Tracker Band\\IMUWorkoutClassification\\AppleWatchRecordings\\Whales1_ProcessedFiltered\\021224_SACTE_W18_S1_R7-2024-12-02_15-32-12.csv\n",
      "Processed file saved: D:\\My projects\\Health Tracker Band\\IMUWorkoutClassification\\AppleWatchRecordings\\Whales1_ProcessedFiltered\\231124_30DBP_W17_5_S1_R16-2024-11-23_12-21-42.csv\n",
      "Processed file saved: D:\\My projects\\Health Tracker Band\\IMUWorkoutClassification\\AppleWatchRecordings\\Whales1_ProcessedFiltered\\231124_30DBP_W17_5_S2_R16-2024-11-23_12-27-44.csv\n",
      "Processed file saved: D:\\My projects\\Health Tracker Band\\IMUWorkoutClassification\\AppleWatchRecordings\\Whales1_ProcessedFiltered\\231124_45DBP_W12_5_S1_R16-2024-11-23_12-34-11.csv\n"
     ]
    },
    {
     "name": "stderr",
     "output_type": "stream",
     "text": [
      "C:\\Users\\shakt\\AppData\\Local\\Temp\\ipykernel_8856\\3745315582.py:15: DtypeWarning: Columns (7) have mixed types. Specify dtype option on import or set low_memory=False.\n",
      "  df = pd.read_csv(file_path)\n"
     ]
    },
    {
     "name": "stdout",
     "output_type": "stream",
     "text": [
      "Processed file saved: D:\\My projects\\Health Tracker Band\\IMUWorkoutClassification\\AppleWatchRecordings\\Whales1_ProcessedFiltered\\231124_45DBP_W12_5_S2_R16-2024-11-23_12-39-26.csv\n",
      "Processed file saved: D:\\My projects\\Health Tracker Band\\IMUWorkoutClassification\\AppleWatchRecordings\\Whales1_ProcessedFiltered\\231124_SACLR_W4_5_S1_R18-2024-11-23_12-57-04.csv\n",
      "Processed file saved: D:\\My projects\\Health Tracker Band\\IMUWorkoutClassification\\AppleWatchRecordings\\Whales1_ProcessedFiltered\\231124_SACLR_W4_5_S2_R18-2024-11-23_13-00-34.csv\n",
      "Processed file saved: D:\\My projects\\Health Tracker Band\\IMUWorkoutClassification\\AppleWatchRecordings\\Whales1_ProcessedFiltered\\231124_SACLR_W4_5_S3_R18-2024-11-23_13-03-58.csv\n",
      "Processed file saved: D:\\My projects\\Health Tracker Band\\IMUWorkoutClassification\\AppleWatchRecordings\\Whales1_ProcessedFiltered\\231124_SAOCTE_W11_S1_R15-2024-11-23_12-47-03.csv\n",
      "Processed file saved: D:\\My projects\\Health Tracker Band\\IMUWorkoutClassification\\AppleWatchRecordings\\Whales1_ProcessedFiltered\\231124_SAOCTE_W11_S2_R15-2024-11-23_12-50-51.csv\n",
      "Processed file saved: D:\\My projects\\Health Tracker Band\\IMUWorkoutClassification\\AppleWatchRecordings\\Whales1_ProcessedFiltered\\231124_SAODTE_W7_5_S1_R15-2024-11-23_13-07-49.csv\n",
      "Processed file saved: D:\\My projects\\Health Tracker Band\\IMUWorkoutClassification\\AppleWatchRecordings\\Whales1_ProcessedFiltered\\241124_APULL_W61_S1_R5-2024-11-24_07-16-12.csv\n",
      "Processed file saved: D:\\My projects\\Health Tracker Band\\IMUWorkoutClassification\\AppleWatchRecordings\\Whales1_ProcessedFiltered\\241124_APULL_W66_S2_R2-2024-11-24_07-18-34.csv\n",
      "Processed file saved: D:\\My projects\\Health Tracker Band\\IMUWorkoutClassification\\AppleWatchRecordings\\Whales1_ProcessedFiltered\\241124_APULL_W71_S3_R2-2024-11-24_07-19-26.csv\n",
      "Processed file saved: D:\\My projects\\Health Tracker Band\\IMUWorkoutClassification\\AppleWatchRecordings\\Whales1_ProcessedFiltered\\241124_APULL_W81_S5_R5-2024-11-24_07-31-16.csv\n",
      "Processed file saved: D:\\My projects\\Health Tracker Band\\IMUWorkoutClassification\\AppleWatchRecordings\\Whales1_ProcessedFiltered\\241124_APULL_W81_S6_R5-2024-11-24_07-36-54.csv\n",
      "Processed file saved: D:\\My projects\\Health Tracker Band\\IMUWorkoutClassification\\AppleWatchRecordings\\Whales1_ProcessedFiltered\\241124_APULL_W81_S7_R5-2024-11-24_07-42-40.csv\n",
      "Processed file saved: D:\\My projects\\Health Tracker Band\\IMUWorkoutClassification\\AppleWatchRecordings\\Whales1_ProcessedFiltered\\241124_APULL_W83_5_S4_R4-2024-11-24_07-26-35.csv\n",
      "Processed file saved: D:\\My projects\\Health Tracker Band\\IMUWorkoutClassification\\AppleWatchRecordings\\Whales1_ProcessedFiltered\\241124_CGCR_W52_S1_R15-2024-11-24_07-48-31.csv\n",
      "Processed file saved: D:\\My projects\\Health Tracker Band\\IMUWorkoutClassification\\AppleWatchRecordings\\Whales1_ProcessedFiltered\\241124_CGCR_W52_S2_R14-2024-11-24_07-52-31.csv\n",
      "Processed file saved: D:\\My projects\\Health Tracker Band\\IMUWorkoutClassification\\AppleWatchRecordings\\Whales1_ProcessedFiltered\\241124_CGCR_W52_S3_R14-2024-11-24_07-56-26.csv\n",
      "Processed file saved: D:\\My projects\\Health Tracker Band\\IMUWorkoutClassification\\AppleWatchRecordings\\Whales1_ProcessedFiltered\\241124_DWC_W7_5_S1_R12-2024-11-24_08-25-39.csv\n",
      "Processed file saved: D:\\My projects\\Health Tracker Band\\IMUWorkoutClassification\\AppleWatchRecordings\\Whales1_ProcessedFiltered\\241124_DWC_W7_5_S2_R10-2024-11-24_08-29-22.csv\n",
      "Processed file saved: D:\\My projects\\Health Tracker Band\\IMUWorkoutClassification\\AppleWatchRecordings\\Whales1_ProcessedFiltered\\241124_IDBC_W7_5_S1_R14-2024-11-24_08-04-33.csv\n",
      "Processed file saved: D:\\My projects\\Health Tracker Band\\IMUWorkoutClassification\\AppleWatchRecordings\\Whales1_ProcessedFiltered\\241124_IDBC_W7_5_S2_R11-2024-11-24_08-08-38.csv\n",
      "Processed file saved: D:\\My projects\\Health Tracker Band\\IMUWorkoutClassification\\AppleWatchRecordings\\Whales1_ProcessedFiltered\\241124_PREBC_W7_5_S1_R14-2024-11-24_08-16-33.csv\n",
      "Processed file saved: D:\\My projects\\Health Tracker Band\\IMUWorkoutClassification\\AppleWatchRecordings\\Whales1_ProcessedFiltered\\241124_PREBC_W7_5_S2_R14-2024-11-24_08-22-36.csv\n",
      "Processed file saved: D:\\My projects\\Health Tracker Band\\IMUWorkoutClassification\\AppleWatchRecordings\\Whales1_ProcessedFiltered\\261124_30DBP_W10_S1_R8-2024-11-26_13-18-24.csv\n",
      "Processed file saved: D:\\My projects\\Health Tracker Band\\IMUWorkoutClassification\\AppleWatchRecordings\\Whales1_ProcessedFiltered\\261124_30DBP_W17_5_S2_17-2024-11-26_13-22-15.csv\n"
     ]
    },
    {
     "name": "stderr",
     "output_type": "stream",
     "text": [
      "C:\\Users\\shakt\\AppData\\Local\\Temp\\ipykernel_8856\\3745315582.py:15: DtypeWarning: Columns (6) have mixed types. Specify dtype option on import or set low_memory=False.\n",
      "  df = pd.read_csv(file_path)\n"
     ]
    },
    {
     "name": "stdout",
     "output_type": "stream",
     "text": [
      "Processed file saved: D:\\My projects\\Health Tracker Band\\IMUWorkoutClassification\\AppleWatchRecordings\\Whales1_ProcessedFiltered\\261124_30DBP_W17_5_S2_R12-2024-11-26_13-27-55.csv\n",
      "Processed file saved: D:\\My projects\\Health Tracker Band\\IMUWorkoutClassification\\AppleWatchRecordings\\Whales1_ProcessedFiltered\\261124_45DBP_W12_5_S1_R12-2024-11-26_13-39-13.csv\n",
      "Processed file saved: D:\\My projects\\Health Tracker Band\\IMUWorkoutClassification\\AppleWatchRecordings\\Whales1_ProcessedFiltered\\261124_CGOCTE_W18_S1_R12-2024-11-26_14-39-41.csv\n",
      "Processed file saved: D:\\My projects\\Health Tracker Band\\IMUWorkoutClassification\\AppleWatchRecordings\\Whales1_ProcessedFiltered\\261124_MTE_W18_S1_R12-2024-11-26_14-34-13.csv\n",
      "Processed file saved: D:\\My projects\\Health Tracker Band\\IMUWorkoutClassification\\AppleWatchRecordings\\Whales1_ProcessedFiltered\\261124_SACLR_W4_5_S1_R30-2024-11-26_13-57-49.csv\n"
     ]
    },
    {
     "name": "stderr",
     "output_type": "stream",
     "text": [
      "C:\\Users\\shakt\\AppData\\Local\\Temp\\ipykernel_8856\\3745315582.py:15: DtypeWarning: Columns (7) have mixed types. Specify dtype option on import or set low_memory=False.\n",
      "  df = pd.read_csv(file_path)\n"
     ]
    },
    {
     "name": "stdout",
     "output_type": "stream",
     "text": [
      "Processed file saved: D:\\My projects\\Health Tracker Band\\IMUWorkoutClassification\\AppleWatchRecordings\\Whales1_ProcessedFiltered\\261124_SACLR_W4_5_S2_R15-2024-11-26_14-06-07.csv\n",
      "Processed file saved: D:\\My projects\\Health Tracker Band\\IMUWorkoutClassification\\AppleWatchRecordings\\Whales1_ProcessedFiltered\\261124_SAOCTE_W11_S1_R18-2024-11-26_13-45-55.csv\n",
      "Processed file saved: D:\\My projects\\Health Tracker Band\\IMUWorkoutClassification\\AppleWatchRecordings\\Whales1_ProcessedFiltered\\261124_SAOCTE_W11_S2_R15-2024-11-26_13-51-14.csv\n",
      "Processed file saved: D:\\My projects\\Health Tracker Band\\IMUWorkoutClassification\\AppleWatchRecordings\\Whales1_ProcessedFiltered\\261124_SAODTE_W7_5_S1_R16-2024-11-26_14-24-54.csv\n",
      "Processed file saved: D:\\My projects\\Health Tracker Band\\IMUWorkoutClassification\\AppleWatchRecordings\\Whales1_ProcessedFiltered\\261124_SAODTE_W7_5_S2_R16-2024-11-26_14-30-57.csv\n",
      "Processed file saved: D:\\My projects\\Health Tracker Band\\IMUWorkoutClassification\\AppleWatchRecordings\\Whales1_ProcessedFiltered\\271124_APULL_W63_5_S1_R8-2024-11-27_14-33-59.csv\n",
      "Processed file saved: D:\\My projects\\Health Tracker Band\\IMUWorkoutClassification\\AppleWatchRecordings\\Whales1_ProcessedFiltered\\271124_APULL_W73_5_S2_R2-2024-11-27_14-38-27.csv\n",
      "Processed file saved: D:\\My projects\\Health Tracker Band\\IMUWorkoutClassification\\AppleWatchRecordings\\Whales1_ProcessedFiltered\\271124_APULL_W81_S4_R5-2024-11-27_14-47-37.csv\n",
      "Processed file saved: D:\\My projects\\Health Tracker Band\\IMUWorkoutClassification\\AppleWatchRecordings\\Whales1_ProcessedFiltered\\271124_APULL_W83_5_S3_R4-2024-11-27_14-42-31.csv\n"
     ]
    },
    {
     "name": "stderr",
     "output_type": "stream",
     "text": [
      "C:\\Users\\shakt\\AppData\\Local\\Temp\\ipykernel_8856\\3745315582.py:15: DtypeWarning: Columns (6) have mixed types. Specify dtype option on import or set low_memory=False.\n",
      "  df = pd.read_csv(file_path)\n"
     ]
    },
    {
     "name": "stdout",
     "output_type": "stream",
     "text": [
      "Processed file saved: D:\\My projects\\Health Tracker Band\\IMUWorkoutClassification\\AppleWatchRecordings\\Whales1_ProcessedFiltered\\271124_CGCR_W52_S1_R15-2024-11-27_15-06-19.csv\n",
      "Processed file saved: D:\\My projects\\Health Tracker Band\\IMUWorkoutClassification\\AppleWatchRecordings\\Whales1_ProcessedFiltered\\271124_DWC_W7_5_S1_R12-2024-11-27_15-49-31.csv\n",
      "Processed file saved: D:\\My projects\\Health Tracker Band\\IMUWorkoutClassification\\AppleWatchRecordings\\Whales1_ProcessedFiltered\\271124_IDBC_W7_5_S1_R11-2024-11-27_15-21-34.csv\n",
      "Processed file saved: D:\\My projects\\Health Tracker Band\\IMUWorkoutClassification\\AppleWatchRecordings\\Whales1_ProcessedFiltered\\271124_IDBC_W7_5_S2_R8-2024-11-27_15-25-35.csv\n",
      "Processed file saved: D:\\My projects\\Health Tracker Band\\IMUWorkoutClassification\\AppleWatchRecordings\\Whales1_ProcessedFiltered\\271124_PREBC_W7_5_S1_R9-2024-11-27_15-30-47.csv\n",
      "Processed file saved: D:\\My projects\\Health Tracker Band\\IMUWorkoutClassification\\AppleWatchRecordings\\Whales1_ProcessedFiltered\\271124_PREBC_W7_5_S2_R11-2024-11-27_15-36-09.csv\n",
      "Processed file saved: D:\\My projects\\Health Tracker Band\\IMUWorkoutClassification\\AppleWatchRecordings\\Whales1_ProcessedFiltered\\271124_SBLP_W45_S1_R10-2024-11-27_15-41-47.csv\n",
      "Processed file saved: D:\\My projects\\Health Tracker Band\\IMUWorkoutClassification\\AppleWatchRecordings\\Whales1_ProcessedFiltered\\271124_SBLP_W45_S2_R10-2024-11-27_15-45-32.csv\n",
      "Processed file saved: D:\\My projects\\Health Tracker Band\\IMUWorkoutClassification\\AppleWatchRecordings\\Whales1_ProcessedFiltered\\291124_30DBP_W17_5_S1_R16-2024-11-29_14-41-39.csv\n",
      "Processed file saved: D:\\My projects\\Health Tracker Band\\IMUWorkoutClassification\\AppleWatchRecordings\\Whales1_ProcessedFiltered\\291124_30DBP_W7_5_S1_R8-2024-11-29_14-34-27.csv\n",
      "Processed file saved: D:\\My projects\\Health Tracker Band\\IMUWorkoutClassification\\AppleWatchRecordings\\Whales1_ProcessedFiltered\\291124_30DBP_W7_5_S2_R8-2024-11-29_14-49-58.csv\n",
      "Processed file saved: D:\\My projects\\Health Tracker Band\\IMUWorkoutClassification\\AppleWatchRecordings\\Whales1_ProcessedFiltered\\291124_45DBP_W12_5_S1_R12-2024-11-29_14-55-21.csv\n",
      "Processed file saved: D:\\My projects\\Health Tracker Band\\IMUWorkoutClassification\\AppleWatchRecordings\\Whales1_ProcessedFiltered\\291124_DLR_W4_S1_R10-2024-11-29_15-37-15.csv\n",
      "Processed file saved: D:\\My projects\\Health Tracker Band\\IMUWorkoutClassification\\AppleWatchRecordings\\Whales1_ProcessedFiltered\\291124_DLR_W4_S2_12-2024-11-29_15-40-18.csv\n",
      "Processed file saved: D:\\My projects\\Health Tracker Band\\IMUWorkoutClassification\\AppleWatchRecordings\\Whales1_ProcessedFiltered\\291124_DSP_W12_5_S1_R10-2024-11-29_14-59-14.csv\n",
      "Processed file saved: D:\\My projects\\Health Tracker Band\\IMUWorkoutClassification\\AppleWatchRecordings\\Whales1_ProcessedFiltered\\291124_MIBP_W4_5_S1_R8-2024-11-29_14-30-44.csv\n",
      "Processed file saved: D:\\My projects\\Health Tracker Band\\IMUWorkoutClassification\\AppleWatchRecordings\\Whales1_ProcessedFiltered\\291124_MTE_W13_6_S1_R2-2024-11-29_15-11-33.csv\n",
      "Processed file saved: D:\\My projects\\Health Tracker Band\\IMUWorkoutClassification\\AppleWatchRecordings\\Whales1_ProcessedFiltered\\291124_MTE_W18_S2_R13-2024-11-29_15-17-06.csv\n"
     ]
    },
    {
     "name": "stderr",
     "output_type": "stream",
     "text": [
      "C:\\Users\\shakt\\AppData\\Local\\Temp\\ipykernel_8856\\3745315582.py:15: DtypeWarning: Columns (6) have mixed types. Specify dtype option on import or set low_memory=False.\n",
      "  df = pd.read_csv(file_path)\n"
     ]
    },
    {
     "name": "stdout",
     "output_type": "stream",
     "text": [
      "Processed file saved: D:\\My projects\\Health Tracker Band\\IMUWorkoutClassification\\AppleWatchRecordings\\Whales1_ProcessedFiltered\\291124_MTE_W18_S3_R13-2024-11-29_15-20-44.csv\n",
      "Processed file saved: D:\\My projects\\Health Tracker Band\\IMUWorkoutClassification\\AppleWatchRecordings\\Whales1_ProcessedFiltered\\291124_SACLR_W4_5_S1_R30-2024-11-29_15-43-12.csv\n",
      "Processed file saved: D:\\My projects\\Health Tracker Band\\IMUWorkoutClassification\\AppleWatchRecordings\\Whales1_ProcessedFiltered\\291124_SACLR_W4_5_S2_R15-2024-11-29_15-49-11.csv\n",
      "Processed file saved: D:\\My projects\\Health Tracker Band\\IMUWorkoutClassification\\AppleWatchRecordings\\Whales1_ProcessedFiltered\\291124_SAOCTE_W11_S2_R11-2024-11-29_15-08-05.csv\n",
      "Processed file saved: D:\\My projects\\Health Tracker Band\\IMUWorkoutClassification\\AppleWatchRecordings\\Whales1_ProcessedFiltered\\291124_SAOCTE_W18_S1_R7-2024-11-29_15-04-06.csv\n"
     ]
    }
   ],
   "source": [
    "# Example usage\n",
    "input_folder = r\"D:\\My projects\\Health Tracker Band\\IMUWorkoutClassification\\AppleWatchRecordings\\Whales1_Raw\"\n",
    "output_folder = r\"D:\\My projects\\Health Tracker Band\\IMUWorkoutClassification\\AppleWatchRecordings\\Whales1_ProcessedFiltered\"\n",
    "process_workout_files(input_folder, output_folder, sampling_frequency=100)\n"
   ]
  },
  {
   "cell_type": "code",
   "execution_count": null,
   "id": "7c30e3ae-b2ab-4b1c-a917-d5ac93858e84",
   "metadata": {},
   "outputs": [],
   "source": []
  }
 ],
 "metadata": {
  "kernelspec": {
   "display_name": "Python 3 (ipykernel)",
   "language": "python",
   "name": "python3"
  },
  "language_info": {
   "codemirror_mode": {
    "name": "ipython",
    "version": 3
   },
   "file_extension": ".py",
   "mimetype": "text/x-python",
   "name": "python",
   "nbconvert_exporter": "python",
   "pygments_lexer": "ipython3",
   "version": "3.12.7"
  }
 },
 "nbformat": 4,
 "nbformat_minor": 5
}
